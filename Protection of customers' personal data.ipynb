{
 "cells": [
  {
   "cell_type": "markdown",
   "metadata": {},
   "source": [
    "# Protection of customers' personal data"
   ]
  },
  {
   "cell_type": "markdown",
   "metadata": {},
   "source": [
    "## Content\n",
    "1. Loading data\n",
    "2. Matrix multiplication\n",
    "3. Conversion algorithm\n",
    "4. Verification of the algorithm\n",
    "5. Checklist"
   ]
  },
  {
   "cell_type": "markdown",
   "metadata": {},
   "source": [
    "## Description\n",
    "You need to protect the insurance company's customer data. Develop a data conversion method that makes it difficult to recover personal information. Justify its correctness.\n",
    "\n",
    "Protect the data so that machine learning models do not degrade during conversion. There is no need to select the best model."
   ]
  },
  {
   "cell_type": "markdown",
   "metadata": {},
   "source": [
    "## Loading data"
   ]
  },
  {
   "cell_type": "code",
   "execution_count": 1,
   "metadata": {},
   "outputs": [],
   "source": [
    "import pandas as pd\n",
    "import numpy as np\n",
    "import pandas as pd\n",
    "from sklearn.metrics import r2_score\n",
    "from numpy.linalg import inv\n",
    "from sklearn.linear_model import LinearRegression"
   ]
  },
  {
   "cell_type": "code",
   "execution_count": 2,
   "metadata": {},
   "outputs": [],
   "source": [
    "try:\n",
    "    data = pd.read_csv('/datasets/insurance.csv')\n",
    "except:\n",
    "    data = pd.read_csv('https://code.s3.yandex.net/datasets/insurance.csv')"
   ]
  },
  {
   "cell_type": "code",
   "execution_count": 3,
   "metadata": {},
   "outputs": [
    {
     "data": {
      "text/plain": [
       "(5000, 5)"
      ]
     },
     "execution_count": 3,
     "metadata": {},
     "output_type": "execute_result"
    }
   ],
   "source": [
    "data.shape"
   ]
  },
  {
   "cell_type": "code",
   "execution_count": 4,
   "metadata": {},
   "outputs": [
    {
     "data": {
      "text/plain": [
       "Пол                  0\n",
       "Возраст              0\n",
       "Зарплата             0\n",
       "Члены семьи          0\n",
       "Страховые выплаты    0\n",
       "dtype: int64"
      ]
     },
     "execution_count": 4,
     "metadata": {},
     "output_type": "execute_result"
    }
   ],
   "source": [
    "data.isna().sum()"
   ]
  },
  {
   "cell_type": "code",
   "execution_count": 5,
   "metadata": {},
   "outputs": [
    {
     "name": "stdout",
     "output_type": "stream",
     "text": [
      "<class 'pandas.core.frame.DataFrame'>\n",
      "RangeIndex: 5000 entries, 0 to 4999\n",
      "Data columns (total 5 columns):\n",
      " #   Column             Non-Null Count  Dtype  \n",
      "---  ------             --------------  -----  \n",
      " 0   Пол                5000 non-null   int64  \n",
      " 1   Возраст            5000 non-null   float64\n",
      " 2   Зарплата           5000 non-null   float64\n",
      " 3   Члены семьи        5000 non-null   int64  \n",
      " 4   Страховые выплаты  5000 non-null   int64  \n",
      "dtypes: float64(2), int64(3)\n",
      "memory usage: 195.4 KB\n"
     ]
    }
   ],
   "source": [
    "data.info()"
   ]
  },
  {
   "cell_type": "code",
   "execution_count": 6,
   "metadata": {},
   "outputs": [
    {
     "data": {
      "text/html": [
       "<div>\n",
       "<style scoped>\n",
       "    .dataframe tbody tr th:only-of-type {\n",
       "        vertical-align: middle;\n",
       "    }\n",
       "\n",
       "    .dataframe tbody tr th {\n",
       "        vertical-align: top;\n",
       "    }\n",
       "\n",
       "    .dataframe thead th {\n",
       "        text-align: right;\n",
       "    }\n",
       "</style>\n",
       "<table border=\"1\" class=\"dataframe\">\n",
       "  <thead>\n",
       "    <tr style=\"text-align: right;\">\n",
       "      <th></th>\n",
       "      <th>Пол</th>\n",
       "      <th>Возраст</th>\n",
       "      <th>Зарплата</th>\n",
       "      <th>Члены семьи</th>\n",
       "      <th>Страховые выплаты</th>\n",
       "    </tr>\n",
       "  </thead>\n",
       "  <tbody>\n",
       "    <tr>\n",
       "      <th>0</th>\n",
       "      <td>1</td>\n",
       "      <td>41.0</td>\n",
       "      <td>49600.0</td>\n",
       "      <td>1</td>\n",
       "      <td>0</td>\n",
       "    </tr>\n",
       "    <tr>\n",
       "      <th>1</th>\n",
       "      <td>0</td>\n",
       "      <td>46.0</td>\n",
       "      <td>38000.0</td>\n",
       "      <td>1</td>\n",
       "      <td>1</td>\n",
       "    </tr>\n",
       "    <tr>\n",
       "      <th>2</th>\n",
       "      <td>0</td>\n",
       "      <td>29.0</td>\n",
       "      <td>21000.0</td>\n",
       "      <td>0</td>\n",
       "      <td>0</td>\n",
       "    </tr>\n",
       "    <tr>\n",
       "      <th>3</th>\n",
       "      <td>0</td>\n",
       "      <td>21.0</td>\n",
       "      <td>41700.0</td>\n",
       "      <td>2</td>\n",
       "      <td>0</td>\n",
       "    </tr>\n",
       "    <tr>\n",
       "      <th>4</th>\n",
       "      <td>1</td>\n",
       "      <td>28.0</td>\n",
       "      <td>26100.0</td>\n",
       "      <td>0</td>\n",
       "      <td>0</td>\n",
       "    </tr>\n",
       "  </tbody>\n",
       "</table>\n",
       "</div>"
      ],
      "text/plain": [
       "   Пол  Возраст  Зарплата  Члены семьи  Страховые выплаты\n",
       "0    1     41.0   49600.0            1                  0\n",
       "1    0     46.0   38000.0            1                  1\n",
       "2    0     29.0   21000.0            0                  0\n",
       "3    0     21.0   41700.0            2                  0\n",
       "4    1     28.0   26100.0            0                  0"
      ]
     },
     "execution_count": 6,
     "metadata": {},
     "output_type": "execute_result"
    }
   ],
   "source": [
    "data.head()"
   ]
  },
  {
   "cell_type": "code",
   "execution_count": 7,
   "metadata": {},
   "outputs": [
    {
     "data": {
      "text/html": [
       "<div>\n",
       "<style scoped>\n",
       "    .dataframe tbody tr th:only-of-type {\n",
       "        vertical-align: middle;\n",
       "    }\n",
       "\n",
       "    .dataframe tbody tr th {\n",
       "        vertical-align: top;\n",
       "    }\n",
       "\n",
       "    .dataframe thead th {\n",
       "        text-align: right;\n",
       "    }\n",
       "</style>\n",
       "<table border=\"1\" class=\"dataframe\">\n",
       "  <thead>\n",
       "    <tr style=\"text-align: right;\">\n",
       "      <th></th>\n",
       "      <th>Пол</th>\n",
       "      <th>Возраст</th>\n",
       "      <th>Зарплата</th>\n",
       "      <th>Члены семьи</th>\n",
       "      <th>Страховые выплаты</th>\n",
       "    </tr>\n",
       "  </thead>\n",
       "  <tbody>\n",
       "    <tr>\n",
       "      <th>count</th>\n",
       "      <td>5000.000000</td>\n",
       "      <td>5000.000000</td>\n",
       "      <td>5000.000000</td>\n",
       "      <td>5000.000000</td>\n",
       "      <td>5000.000000</td>\n",
       "    </tr>\n",
       "    <tr>\n",
       "      <th>mean</th>\n",
       "      <td>0.499000</td>\n",
       "      <td>30.952800</td>\n",
       "      <td>39916.360000</td>\n",
       "      <td>1.194200</td>\n",
       "      <td>0.148000</td>\n",
       "    </tr>\n",
       "    <tr>\n",
       "      <th>std</th>\n",
       "      <td>0.500049</td>\n",
       "      <td>8.440807</td>\n",
       "      <td>9900.083569</td>\n",
       "      <td>1.091387</td>\n",
       "      <td>0.463183</td>\n",
       "    </tr>\n",
       "    <tr>\n",
       "      <th>min</th>\n",
       "      <td>0.000000</td>\n",
       "      <td>18.000000</td>\n",
       "      <td>5300.000000</td>\n",
       "      <td>0.000000</td>\n",
       "      <td>0.000000</td>\n",
       "    </tr>\n",
       "    <tr>\n",
       "      <th>25%</th>\n",
       "      <td>0.000000</td>\n",
       "      <td>24.000000</td>\n",
       "      <td>33300.000000</td>\n",
       "      <td>0.000000</td>\n",
       "      <td>0.000000</td>\n",
       "    </tr>\n",
       "    <tr>\n",
       "      <th>50%</th>\n",
       "      <td>0.000000</td>\n",
       "      <td>30.000000</td>\n",
       "      <td>40200.000000</td>\n",
       "      <td>1.000000</td>\n",
       "      <td>0.000000</td>\n",
       "    </tr>\n",
       "    <tr>\n",
       "      <th>75%</th>\n",
       "      <td>1.000000</td>\n",
       "      <td>37.000000</td>\n",
       "      <td>46600.000000</td>\n",
       "      <td>2.000000</td>\n",
       "      <td>0.000000</td>\n",
       "    </tr>\n",
       "    <tr>\n",
       "      <th>max</th>\n",
       "      <td>1.000000</td>\n",
       "      <td>65.000000</td>\n",
       "      <td>79000.000000</td>\n",
       "      <td>6.000000</td>\n",
       "      <td>5.000000</td>\n",
       "    </tr>\n",
       "  </tbody>\n",
       "</table>\n",
       "</div>"
      ],
      "text/plain": [
       "               Пол      Возраст      Зарплата  Члены семьи  Страховые выплаты\n",
       "count  5000.000000  5000.000000   5000.000000  5000.000000        5000.000000\n",
       "mean      0.499000    30.952800  39916.360000     1.194200           0.148000\n",
       "std       0.500049     8.440807   9900.083569     1.091387           0.463183\n",
       "min       0.000000    18.000000   5300.000000     0.000000           0.000000\n",
       "25%       0.000000    24.000000  33300.000000     0.000000           0.000000\n",
       "50%       0.000000    30.000000  40200.000000     1.000000           0.000000\n",
       "75%       1.000000    37.000000  46600.000000     2.000000           0.000000\n",
       "max       1.000000    65.000000  79000.000000     6.000000           5.000000"
      ]
     },
     "execution_count": 7,
     "metadata": {},
     "output_type": "execute_result"
    }
   ],
   "source": [
    "data.describe()"
   ]
  },
  {
   "cell_type": "markdown",
   "metadata": {},
   "source": [
    "**Conclusion:**\n",
    "\n",
    "No gaps in the data"
   ]
  },
  {
   "cell_type": "markdown",
   "metadata": {},
   "source": [
    "## Matrix multiplication"
   ]
  },
  {
   "cell_type": "markdown",
   "metadata": {},
   "source": [
    "Notations:\n",
    "\n",
    "- $X$ - feature matrix (zero column consists of units)\n",
    "\n",
    "- $y$ - vector of target attributes\n",
    "\n",
    "- $P$ - matrix, on which attributes are multiplied\n",
    "\n",
    "- $w$ - vector of linear regression weights (zero element equals shift)"
   ]
  },
  {
   "cell_type": "markdown",
   "metadata": {},
   "source": [
    "Predictions:\n",
    "\n",
    "$$\n",
    "a = Xw\n",
    "$$\n",
    "\n",
    "Learning objective:\n",
    "\n",
    "$$\n",
    "w = \\arg\\min_w MSE(Xw, y)\n",
    "$$\n",
    "\n",
    "Learning formula:\n",
    "\n",
    "$$\n",
    "w = (X^T X)^{-1} X^T y\n",
    "$$\n",
    "\n"
   ]
  },
  {
   "cell_type": "markdown",
   "metadata": {},
   "source": [
    "**Answer:** ...If the features are multiplied by a reversible matrix, the quality of the linear regression will not change.\n",
    "\n",
    "**Rationale:** ...If the features are multiplied by a reversible matrix, all linear combinations of the features will also be transformed using this matrix. However, this transformation will be linear and will not change the linear relationship between the features and the target variable that the linear regression model is seeking.\n",
    "\n",
    "Linear regression seeks to find the optimal weights for the features that minimise prediction error. Scaling or multiplying features by a reversible matrix does not change the relationship between the features and the target variable, as it preserves the proportionality and linear combinations of the features. Thus, the weights of the features and the quality of the model will remain unchanged.\n",
    "\n",
    "It is important to note that by multiplying the features by an irreversible matrix, the quality of the linear regression may change, as it may distort linear relationships and generate new dependencies between features, which may negatively affect the ability of the model to reconstruct the target variable."
   ]
  },
  {
   "cell_type": "markdown",
   "metadata": {},
   "source": [
    "**Proof:**\n",
    " \n",
    "1. Basic properties of an inverse matrix \n",
    "   $$ det(A)=1/det(A)$$\n",
    "2. Basic properties of a unit matrix \n",
    "   $$AE=EA=A $$\n",
    "   $$AA^{-1}=E$$\n",
    "3. Combinatorial property of matrices, associativity: \n",
    "   $$A(BC)=(AB)C$$"
   ]
  },
  {
   "cell_type": "markdown",
   "metadata": {},
   "source": [
    "A formula for training linear regression weights:\n",
    "\n",
    "$$\n",
    "w = (X^T X)^{-1} X^T y\n",
    "$$\n",
    "\n",
    "If we multiply the feature matrix $X$ by the reversible matrix $P$, we get a new feature matrix $X'$:\n",
    "\n",
    "$$\n",
    "X' = XP\n",
    "$$\n",
    "\n",
    "We can now express the linear regression weights for the new feature matrix $X'$:\n",
    "\n",
    "$$\n",
    "w' = ((XP)^T XP)^{-1} (XP)^T y\n",
    "$$\n",
    "\n",
    "Open the brackets:\n",
    "\n",
    "$$\n",
    "w' = (P^T X^T XP)^{-1} P^T X^T y\n",
    "$$\n",
    "\n",
    "Since multiplication by a reversible matrix does not change the reversibility of the original matrix, the matrix $X^T X$ remains reversible.\n",
    "\n",
    "Use the property $(AB)^T = B^T A^T$:\n",
    "\n",
    "$$\n",
    "w' = (P^T(X^T X)P)^{-1} P^T X^T y\n",
    "$$\n",
    "\n",
    "Now replace $A = X^T X$:\n",
    "\n",
    "$$\n",
    "w' = (P^T AP)^{-1} P^T X^T y\n",
    "$$\n",
    "\n",
    "Since the matrix $A$ is reversible, we can use the following property for the inverse matrix $(AB)^{-1} = B^{-1} A^{-1}$:\n",
    "\n",
    "$$\n",
    "w' = P^{-1}(A^{-1}(P^T)^{-1})P^T X^T y\n",
    "$$\n",
    "\n",
    "The inverse of the inverse matrix gives us $A^{-1} (P^T)^{-1} = (P^T A)^{-1}$:\n",
    "\n",
    "$$\n",
    "w' = P^{-1}(P^T A)^{-1} P^T X^T y\n",
    "$$\n",
    "\n",
    "\n",
    "$$\n",
    "w' = (P^{-1} P^T AP^{-1})P^T X^T y\n",
    "$$\n",
    "\n",
    "or:\n",
    "\n",
    "$$\n",
    "w' = (P^{-1} P^T) (AP^{-1})P^T X^T y\n",
    "$$\n",
    "\n",
    "The matrix $P^{-1} P^T$ is reversible because it is the product of reversible matrices.\n",
    "\n",
    "We can now express $w'$ as follows\n",
    "\n",
    "$$\n",
    "w' = Q(AP^{-1})P^T X^T y\n",
    "$$\n",
    "\n",
    "Where $Q = P^{-1} P^T$ is a reversible matrix.\n",
    "\n",
    "Thus we see that the linear regression weights w' for the new feature matrix X' and the old weights w for the original feature matrix X are equivalent.\n",
    "\n",
    "This means that the quality of the linear regression, as measured through the root mean square error (MSE), will not change when the features are multiplied by a reversible matrix."
   ]
  },
  {
   "cell_type": "markdown",
   "metadata": {},
   "source": [
    "## Conversion algorithm"
   ]
  },
  {
   "cell_type": "markdown",
   "metadata": {},
   "source": [
    "**Algorithm**.\n",
    "\n",
    "1. Write down the features and the target feature\n",
    "2. Create an arbitrary reversible matrix\n",
    "    - The reversible matrix must be square\n",
    "    - the reversible matrix must have a size equal to the length of the feature vector, in this case 4\n",
    "3. teach the model\n",
    "4. Let's get the R2 metric\n",
    "5. Let's multiply the inverse matrix by the features\n",
    "6. Train the model on the new data\n",
    "7. Get R2 metric on the new model\n",
    "8. Compare the quality of the models before and after"
   ]
  },
  {
   "cell_type": "markdown",
   "metadata": {},
   "source": [
    "**Rationale**\n",
    "\n",
    "To test the hypothesis, let us compare the quality of the model before and after multiplying the feature matrix by the reversible matrix."
   ]
  },
  {
   "cell_type": "markdown",
   "metadata": {},
   "source": [
    "## Algorithm check"
   ]
  },
  {
   "cell_type": "markdown",
   "metadata": {},
   "source": [
    "**Write down the signs**"
   ]
  },
  {
   "cell_type": "code",
   "execution_count": 8,
   "metadata": {},
   "outputs": [],
   "source": [
    "features = data.drop('Страховые выплаты', axis=1).values\n",
    "target = data['Страховые выплаты'].values"
   ]
  },
  {
   "cell_type": "markdown",
   "metadata": {},
   "source": [
    "**Find the length of the target feature vector**"
   ]
  },
  {
   "cell_type": "code",
   "execution_count": 9,
   "metadata": {},
   "outputs": [
    {
     "name": "stdout",
     "output_type": "stream",
     "text": [
      "4\n"
     ]
    }
   ],
   "source": [
    "n = len(features[0])\n",
    "print(n)"
   ]
  },
  {
   "cell_type": "markdown",
   "metadata": {},
   "source": [
    "**Create an arbitrary matrix**"
   ]
  },
  {
   "cell_type": "code",
   "execution_count": 10,
   "metadata": {},
   "outputs": [
    {
     "data": {
      "text/plain": [
       "array([[ 0.12959788, -0.73613628,  1.07381142, -0.7538745 ],\n",
       "       [ 0.7866127 ,  0.04204902, -2.24416515,  0.64525221],\n",
       "       [-2.28954895,  1.00514094, -0.21122626,  0.71199664],\n",
       "       [ 0.54888564, -1.48611529,  2.75022679, -1.2715076 ]])"
      ]
     },
     "metadata": {},
     "output_type": "display_data"
    }
   ],
   "source": [
    "m_random = np.random.normal(size=(n,n))\n",
    "display(m_random)"
   ]
  },
  {
   "cell_type": "markdown",
   "metadata": {},
   "source": [
    "**Check it for reversibility**"
   ]
  },
  {
   "cell_type": "code",
   "execution_count": 11,
   "metadata": {},
   "outputs": [
    {
     "data": {
      "text/plain": [
       "array([[-0.90999305, -0.32889887, -0.59132454,  0.04150722],\n",
       "       [ 0.3033701 , -1.55242537, -0.8641868 , -1.45158943],\n",
       "       [-1.39694462, -0.28854281, -0.01703761,  0.67227858],\n",
       "       [-3.76894294,  1.04835947,  0.71793073,  2.38215684]])"
      ]
     },
     "metadata": {},
     "output_type": "display_data"
    }
   ],
   "source": [
    "m_random = inv(m_random)\n",
    "display(m_random)"
   ]
  },
  {
   "cell_type": "code",
   "execution_count": 12,
   "metadata": {},
   "outputs": [
    {
     "name": "stdout",
     "output_type": "stream",
     "text": [
      "R2 of the original model: 0.42494550286668\n",
      "R2 of the transformed model: 0.42494550286668276\n"
     ]
    }
   ],
   "source": [
    "model = LinearRegression()\n",
    "model.fit(features, target)\n",
    "predictions = model.predict(features)\n",
    "print('R2 of the original model:',r2_score(target, predictions))\n",
    "\n",
    "new_matrix = features @ m_random\n",
    "model.fit(new_matrix, target)\n",
    "predictions = model.predict(new_matrix)\n",
    "print('R2 of the transformed model:',r2_score(target, predictions))"
   ]
  },
  {
   "cell_type": "markdown",
   "metadata": {},
   "source": [
    "**Conclusions**\n",
    "\n",
    "1. Input data has been uploaded and verified\n",
    "2. Theoretical justification of the problem has been carried out, the possibility of multiplication of features by a reversible matrix has been tested, and independence of linear regression metrics from the use of data encoded in this way has been proved. The relation between initial and transformed vectors of coefficients is proved.\n",
    "3. The algorithm of data transformation and model training on initial and encrypted data is developed. An arbitrary matrix for data encryption is created.\n",
    "4. Models were trained and R2 metrics were compared\n",
    "5. R2 metrics do not differ within the margin of error, the results of the experiment are in line with the theoretical justification."
   ]
  },
  {
   "cell_type": "markdown",
   "metadata": {},
   "source": [
    "## Inspection checklist"
   ]
  },
  {
   "cell_type": "markdown",
   "metadata": {},
   "source": [
    "Put an 'x' in the completed items. Then press Shift+Enter."
   ]
  },
  {
   "cell_type": "markdown",
   "metadata": {},
   "source": [
    "- [x] Jupyter Notebook open\n",
    "- [x] All code runs without errors\n",
    "- [x] Cells with code are in the order of execution\n",
    "- [x] Executed step 1: Data loaded\n",
    "- [x] Executed step 2: Matrix multiplication question is answered\n",
    "    - [x] Correct answer is given\n",
    "    - [x] Option is justified\n",
    "- [x] Step 3 is completed: transformation algorithm is proposed\n",
    "    - [x] Algorithm is described\n",
    "    - [x] Algorithm is justified\n",
    "- [x] Step 4 is completed: Algorithm is verified\n",
    "    - [x] Algorithm is implemented\n",
    "    - [x] Comparison of model quality before and after transformation performed"
   ]
  }
 ],
 "metadata": {
  "ExecuteTimeLog": [
   {
    "duration": 402,
    "start_time": "2023-06-07T19:23:03.269Z"
   },
   {
    "duration": 50,
    "start_time": "2023-06-07T19:23:03.673Z"
   },
   {
    "duration": 94,
    "start_time": "2023-06-07T19:23:18.805Z"
   },
   {
    "duration": 12,
    "start_time": "2023-06-07T19:23:29.993Z"
   },
   {
    "duration": 8,
    "start_time": "2023-06-07T19:23:44.964Z"
   },
   {
    "duration": 10,
    "start_time": "2023-06-07T19:23:52.172Z"
   },
   {
    "duration": 66,
    "start_time": "2023-06-07T19:24:16.804Z"
   },
   {
    "duration": 7,
    "start_time": "2023-06-07T19:24:19.660Z"
   },
   {
    "duration": 13,
    "start_time": "2023-06-07T19:24:57.382Z"
   },
   {
    "duration": 6,
    "start_time": "2023-06-07T19:25:17.826Z"
   },
   {
    "duration": 7,
    "start_time": "2023-06-07T19:25:37.464Z"
   },
   {
    "duration": 9,
    "start_time": "2023-06-07T19:25:50.952Z"
   },
   {
    "duration": 12,
    "start_time": "2023-06-07T19:33:41.635Z"
   },
   {
    "duration": 6,
    "start_time": "2023-06-07T19:33:47.697Z"
   },
   {
    "duration": 53,
    "start_time": "2023-06-08T06:52:49.642Z"
   },
   {
    "duration": 5,
    "start_time": "2023-06-08T06:52:50.174Z"
   },
   {
    "duration": 365,
    "start_time": "2023-06-08T06:52:53.001Z"
   },
   {
    "duration": 79,
    "start_time": "2023-06-08T06:52:53.367Z"
   },
   {
    "duration": 10,
    "start_time": "2023-06-08T06:52:54.121Z"
   },
   {
    "duration": 7,
    "start_time": "2023-06-08T06:52:54.566Z"
   },
   {
    "duration": 10,
    "start_time": "2023-06-08T06:52:55.046Z"
   },
   {
    "duration": 11,
    "start_time": "2023-06-08T06:52:55.500Z"
   },
   {
    "duration": 30,
    "start_time": "2023-06-08T07:01:13.702Z"
   },
   {
    "duration": 655,
    "start_time": "2023-06-08T07:01:53.404Z"
   },
   {
    "duration": 28,
    "start_time": "2023-06-08T07:01:54.739Z"
   },
   {
    "duration": 3,
    "start_time": "2023-06-08T07:01:55.014Z"
   },
   {
    "duration": 5,
    "start_time": "2023-06-08T07:01:55.480Z"
   },
   {
    "duration": 9,
    "start_time": "2023-06-08T07:01:55.706Z"
   },
   {
    "duration": 7,
    "start_time": "2023-06-08T07:01:55.905Z"
   },
   {
    "duration": 10,
    "start_time": "2023-06-08T07:01:56.575Z"
   },
   {
    "duration": 112,
    "start_time": "2023-06-08T07:04:04.216Z"
   },
   {
    "duration": 195,
    "start_time": "2023-06-08T07:04:58.717Z"
   },
   {
    "duration": 12,
    "start_time": "2023-06-08T07:05:35.042Z"
   },
   {
    "duration": 12,
    "start_time": "2023-06-08T07:05:52.662Z"
   },
   {
    "duration": 16,
    "start_time": "2023-06-08T07:05:57.338Z"
   },
   {
    "duration": 91,
    "start_time": "2023-06-08T07:09:40.024Z"
   },
   {
    "duration": 731,
    "start_time": "2023-06-08T07:11:21.941Z"
   },
   {
    "duration": 248,
    "start_time": "2023-06-08T07:11:37.218Z"
   },
   {
    "duration": 393,
    "start_time": "2023-06-08T07:11:44.606Z"
   },
   {
    "duration": 537,
    "start_time": "2023-06-08T07:12:00.203Z"
   },
   {
    "duration": 345,
    "start_time": "2023-06-08T07:12:20.208Z"
   },
   {
    "duration": 475,
    "start_time": "2023-06-08T07:12:34.235Z"
   },
   {
    "duration": 63,
    "start_time": "2023-06-08T07:12:40.670Z"
   },
   {
    "duration": 540,
    "start_time": "2023-06-08T07:12:45.997Z"
   },
   {
    "duration": 94,
    "start_time": "2023-06-09T08:28:15.076Z"
   },
   {
    "duration": 43,
    "start_time": "2023-06-09T08:28:15.463Z"
   },
   {
    "duration": 6,
    "start_time": "2023-06-09T08:28:23.033Z"
   },
   {
    "duration": 1126,
    "start_time": "2023-06-09T08:28:33.949Z"
   },
   {
    "duration": 74,
    "start_time": "2023-06-09T08:28:35.077Z"
   },
   {
    "duration": 11,
    "start_time": "2023-06-09T08:28:35.153Z"
   },
   {
    "duration": 7,
    "start_time": "2023-06-09T08:28:36.053Z"
   },
   {
    "duration": 12,
    "start_time": "2023-06-09T08:28:37.039Z"
   },
   {
    "duration": 49,
    "start_time": "2023-06-09T08:28:37.053Z"
   },
   {
    "duration": 1084,
    "start_time": "2023-06-09T08:28:37.227Z"
   },
   {
    "duration": 4,
    "start_time": "2023-06-09T08:28:43.658Z"
   },
   {
    "duration": 5295,
    "start_time": "2023-06-09T08:28:44.551Z"
   },
   {
    "duration": 0,
    "start_time": "2023-06-09T08:28:49.847Z"
   },
   {
    "duration": 5263,
    "start_time": "2023-06-09T08:29:07.003Z"
   },
   {
    "duration": 3994,
    "start_time": "2023-06-09T08:29:25.504Z"
   },
   {
    "duration": 4,
    "start_time": "2023-06-09T08:29:43.111Z"
   },
   {
    "duration": 7328,
    "start_time": "2023-06-09T08:29:48.286Z"
   },
   {
    "duration": 4,
    "start_time": "2023-06-09T08:30:07.093Z"
   },
   {
    "duration": 3,
    "start_time": "2023-06-09T08:30:08.592Z"
   },
   {
    "duration": 4,
    "start_time": "2023-06-09T08:31:14.852Z"
   },
   {
    "duration": 4,
    "start_time": "2023-06-09T08:31:20.441Z"
   },
   {
    "duration": 4,
    "start_time": "2023-06-09T08:31:28.661Z"
   },
   {
    "duration": 10,
    "start_time": "2023-06-09T08:32:57.498Z"
   },
   {
    "duration": 365,
    "start_time": "2023-06-09T08:32:59.313Z"
   },
   {
    "duration": 0,
    "start_time": "2023-06-09T08:32:59.679Z"
   },
   {
    "duration": 4,
    "start_time": "2023-06-09T08:33:04.205Z"
   },
   {
    "duration": 4,
    "start_time": "2023-06-09T08:33:05.157Z"
   },
   {
    "duration": 4,
    "start_time": "2023-06-09T08:33:26.049Z"
   },
   {
    "duration": 4,
    "start_time": "2023-06-09T08:33:26.955Z"
   },
   {
    "duration": 5,
    "start_time": "2023-06-09T08:33:29.431Z"
   },
   {
    "duration": 4,
    "start_time": "2023-06-09T08:33:30.134Z"
   },
   {
    "duration": 10,
    "start_time": "2023-06-09T08:34:10.244Z"
   },
   {
    "duration": 9,
    "start_time": "2023-06-09T08:34:46.300Z"
   },
   {
    "duration": 9,
    "start_time": "2023-06-09T08:34:59.986Z"
   },
   {
    "duration": 2857,
    "start_time": "2023-06-09T08:48:19.634Z"
   },
   {
    "duration": 118,
    "start_time": "2023-06-09T08:48:22.493Z"
   },
   {
    "duration": 8,
    "start_time": "2023-06-09T08:48:22.613Z"
   },
   {
    "duration": 8,
    "start_time": "2023-06-09T08:48:22.623Z"
   },
   {
    "duration": 16,
    "start_time": "2023-06-09T08:48:22.633Z"
   },
   {
    "duration": 18,
    "start_time": "2023-06-09T08:48:22.650Z"
   },
   {
    "duration": 1060,
    "start_time": "2023-06-09T08:48:22.670Z"
   },
   {
    "duration": 5,
    "start_time": "2023-06-09T08:48:23.732Z"
   },
   {
    "duration": 8,
    "start_time": "2023-06-09T08:48:23.739Z"
   },
   {
    "duration": 4,
    "start_time": "2023-06-09T08:48:23.759Z"
   },
   {
    "duration": 18,
    "start_time": "2023-06-09T08:48:23.765Z"
   },
   {
    "duration": 304,
    "start_time": "2023-06-09T08:48:23.785Z"
   },
   {
    "duration": 42,
    "start_time": "2023-06-11T11:37:23.777Z"
   },
   {
    "duration": 966,
    "start_time": "2023-06-11T11:37:27.519Z"
   },
   {
    "duration": 84,
    "start_time": "2023-06-11T11:37:28.486Z"
   },
   {
    "duration": 8,
    "start_time": "2023-06-11T11:37:28.571Z"
   },
   {
    "duration": 6,
    "start_time": "2023-06-11T11:37:28.581Z"
   },
   {
    "duration": 10,
    "start_time": "2023-06-11T11:37:28.589Z"
   },
   {
    "duration": 9,
    "start_time": "2023-06-11T11:37:28.652Z"
   },
   {
    "duration": 20,
    "start_time": "2023-06-11T11:37:28.953Z"
   },
   {
    "duration": 53,
    "start_time": "2023-06-11T11:40:12.321Z"
   },
   {
    "duration": 24,
    "start_time": "2023-06-11T11:42:53.326Z"
   },
   {
    "duration": 28,
    "start_time": "2023-06-11T11:42:53.554Z"
   },
   {
    "duration": 4,
    "start_time": "2023-06-11T11:42:53.781Z"
   },
   {
    "duration": 6,
    "start_time": "2023-06-11T11:42:54.009Z"
   },
   {
    "duration": 13,
    "start_time": "2023-06-11T11:42:54.226Z"
   },
   {
    "duration": 9,
    "start_time": "2023-06-11T11:42:54.453Z"
   },
   {
    "duration": 21,
    "start_time": "2023-06-11T11:42:54.685Z"
   },
   {
    "duration": 3,
    "start_time": "2023-06-11T11:43:04.659Z"
   },
   {
    "duration": 3,
    "start_time": "2023-06-11T11:43:05.146Z"
   },
   {
    "duration": 4,
    "start_time": "2023-06-11T11:43:05.605Z"
   },
   {
    "duration": 4,
    "start_time": "2023-06-11T11:43:06.070Z"
   },
   {
    "duration": 21,
    "start_time": "2023-06-11T11:43:06.697Z"
   },
   {
    "duration": 10,
    "start_time": "2023-06-11T12:40:33.293Z"
   },
   {
    "duration": 4,
    "start_time": "2023-06-11T12:41:17.857Z"
   },
   {
    "duration": 4,
    "start_time": "2023-06-11T12:41:39.270Z"
   },
   {
    "duration": 9,
    "start_time": "2023-06-11T12:41:59.800Z"
   },
   {
    "duration": 9,
    "start_time": "2023-06-11T12:42:15.957Z"
   },
   {
    "duration": 5,
    "start_time": "2023-06-11T12:42:22.682Z"
   },
   {
    "duration": 14,
    "start_time": "2023-06-11T12:42:31.416Z"
   },
   {
    "duration": 9,
    "start_time": "2023-06-11T12:42:38.382Z"
   },
   {
    "duration": 7,
    "start_time": "2023-06-11T12:42:46.582Z"
   },
   {
    "duration": 4,
    "start_time": "2023-06-11T12:43:15.796Z"
   },
   {
    "duration": 5,
    "start_time": "2023-06-11T12:43:48.917Z"
   },
   {
    "duration": 5,
    "start_time": "2023-06-11T12:44:26.061Z"
   },
   {
    "duration": 109,
    "start_time": "2023-06-12T06:35:55.350Z"
   },
   {
    "duration": 1123,
    "start_time": "2023-06-12T06:36:18.303Z"
   },
   {
    "duration": 1058,
    "start_time": "2023-06-12T06:36:34.267Z"
   },
   {
    "duration": 97,
    "start_time": "2023-06-12T06:36:35.326Z"
   },
   {
    "duration": 8,
    "start_time": "2023-06-12T06:36:35.424Z"
   },
   {
    "duration": 9,
    "start_time": "2023-06-12T06:36:35.434Z"
   },
   {
    "duration": 1141,
    "start_time": "2023-06-12T06:37:04.581Z"
   },
   {
    "duration": 29,
    "start_time": "2023-06-12T06:37:05.724Z"
   },
   {
    "duration": 8,
    "start_time": "2023-06-12T06:37:05.754Z"
   },
   {
    "duration": 57,
    "start_time": "2023-06-12T06:37:05.763Z"
   },
   {
    "duration": 13,
    "start_time": "2023-06-12T06:37:05.823Z"
   },
   {
    "duration": 9,
    "start_time": "2023-06-12T06:37:05.838Z"
   },
   {
    "duration": 36,
    "start_time": "2023-06-12T06:37:05.849Z"
   },
   {
    "duration": 31,
    "start_time": "2023-06-12T06:37:05.886Z"
   },
   {
    "duration": 13,
    "start_time": "2023-06-12T06:37:05.919Z"
   },
   {
    "duration": 9,
    "start_time": "2023-06-12T06:37:05.933Z"
   },
   {
    "duration": 8,
    "start_time": "2023-06-12T06:37:05.944Z"
   },
   {
    "duration": 127,
    "start_time": "2023-06-12T06:37:05.954Z"
   },
   {
    "duration": 2625,
    "start_time": "2023-06-12T14:37:55.895Z"
   },
   {
    "duration": 86,
    "start_time": "2023-06-12T14:37:58.522Z"
   },
   {
    "duration": 8,
    "start_time": "2023-06-12T14:37:58.609Z"
   },
   {
    "duration": 8,
    "start_time": "2023-06-12T14:37:58.620Z"
   },
   {
    "duration": 15,
    "start_time": "2023-06-12T14:37:58.629Z"
   },
   {
    "duration": 13,
    "start_time": "2023-06-12T14:37:58.646Z"
   },
   {
    "duration": 30,
    "start_time": "2023-06-12T14:37:58.661Z"
   },
   {
    "duration": 5,
    "start_time": "2023-06-12T14:37:58.693Z"
   },
   {
    "duration": 4,
    "start_time": "2023-06-12T14:37:58.700Z"
   },
   {
    "duration": 6,
    "start_time": "2023-06-12T14:37:58.706Z"
   },
   {
    "duration": 44,
    "start_time": "2023-06-12T14:37:58.713Z"
   },
   {
    "duration": 99,
    "start_time": "2023-06-12T14:37:58.759Z"
   }
  ],
  "kernelspec": {
   "display_name": "Python 3 (ipykernel)",
   "language": "python",
   "name": "python3"
  },
  "language_info": {
   "codemirror_mode": {
    "name": "ipython",
    "version": 3
   },
   "file_extension": ".py",
   "mimetype": "text/x-python",
   "name": "python",
   "nbconvert_exporter": "python",
   "pygments_lexer": "ipython3",
   "version": "3.9.5"
  },
  "toc": {
   "base_numbering": 1,
   "nav_menu": {},
   "number_sections": true,
   "sideBar": true,
   "skip_h1_title": true,
   "title_cell": "Содержание",
   "title_sidebar": "Contents",
   "toc_cell": true,
   "toc_position": {},
   "toc_section_display": true,
   "toc_window_display": false
  }
 },
 "nbformat": 4,
 "nbformat_minor": 4
}
